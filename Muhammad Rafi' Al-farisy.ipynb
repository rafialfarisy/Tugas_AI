{
 "cells": [
  {
   "cell_type": "code",
   "execution_count": 68,
   "metadata": {},
   "outputs": [],
   "source": [
    "import numpy as np\n",
    "import pandas as pd\n",
    "import matplotlib.pyplot as plt"
   ]
  },
  {
   "cell_type": "code",
   "execution_count": 69,
   "metadata": {},
   "outputs": [],
   "source": [
    "data = pd.read_excel('D:/kuliah/Kecerdasan Buatan/shooping_demo.xls')"
   ]
  },
  {
   "cell_type": "code",
   "execution_count": 70,
   "metadata": {},
   "outputs": [
    {
     "data": {
      "text/html": [
       "<div>\n",
       "<style scoped>\n",
       "    .dataframe tbody tr th:only-of-type {\n",
       "        vertical-align: middle;\n",
       "    }\n",
       "\n",
       "    .dataframe tbody tr th {\n",
       "        vertical-align: top;\n",
       "    }\n",
       "\n",
       "    .dataframe thead th {\n",
       "        text-align: right;\n",
       "    }\n",
       "</style>\n",
       "<table border=\"1\" class=\"dataframe\">\n",
       "  <thead>\n",
       "    <tr style=\"text-align: right;\">\n",
       "      <th></th>\n",
       "      <th>Day</th>\n",
       "      <th>Discount</th>\n",
       "      <th>Free Delivery</th>\n",
       "      <th>Buy</th>\n",
       "    </tr>\n",
       "  </thead>\n",
       "  <tbody>\n",
       "    <tr>\n",
       "      <th>0</th>\n",
       "      <td>Weekday</td>\n",
       "      <td>Yes</td>\n",
       "      <td>Yes</td>\n",
       "      <td>Yes</td>\n",
       "    </tr>\n",
       "    <tr>\n",
       "      <th>1</th>\n",
       "      <td>Weekday</td>\n",
       "      <td>Yes</td>\n",
       "      <td>Yes</td>\n",
       "      <td>Yes</td>\n",
       "    </tr>\n",
       "    <tr>\n",
       "      <th>2</th>\n",
       "      <td>Weekend</td>\n",
       "      <td>No</td>\n",
       "      <td>No</td>\n",
       "      <td>No</td>\n",
       "    </tr>\n",
       "    <tr>\n",
       "      <th>3</th>\n",
       "      <td>Holiday</td>\n",
       "      <td>Yes</td>\n",
       "      <td>Yes</td>\n",
       "      <td>Yes</td>\n",
       "    </tr>\n",
       "    <tr>\n",
       "      <th>4</th>\n",
       "      <td>Weekday</td>\n",
       "      <td>Yes</td>\n",
       "      <td>Yes</td>\n",
       "      <td>Yes</td>\n",
       "    </tr>\n",
       "  </tbody>\n",
       "</table>\n",
       "</div>"
      ],
      "text/plain": [
       "       Day Discount Free Delivery  Buy\n",
       "0  Weekday      Yes           Yes  Yes\n",
       "1  Weekday      Yes           Yes  Yes\n",
       "2  Weekend       No            No   No\n",
       "3  Holiday      Yes           Yes  Yes\n",
       "4  Weekday      Yes           Yes  Yes"
      ]
     },
     "execution_count": 70,
     "metadata": {},
     "output_type": "execute_result"
    }
   ],
   "source": [
    "data.head()"
   ]
  },
  {
   "cell_type": "code",
   "execution_count": 71,
   "metadata": {},
   "outputs": [
    {
     "data": {
      "text/plain": [
       "(50, 4)"
      ]
     },
     "execution_count": 71,
     "metadata": {},
     "output_type": "execute_result"
    }
   ],
   "source": [
    "data.shape"
   ]
  },
  {
   "cell_type": "code",
   "execution_count": 72,
   "metadata": {},
   "outputs": [
    {
     "data": {
      "text/plain": [
       "Yes    41\n",
       "No      9\n",
       "Name: Buy, dtype: int64"
      ]
     },
     "execution_count": 72,
     "metadata": {},
     "output_type": "execute_result"
    }
   ],
   "source": [
    "data['Buy'].value_counts()"
   ]
  },
  {
   "cell_type": "code",
   "execution_count": 73,
   "metadata": {},
   "outputs": [],
   "source": [
    "PYes = 41/50\n",
    "PNo = 9/50"
   ]
  },
  {
   "cell_type": "code",
   "execution_count": 74,
   "metadata": {},
   "outputs": [
    {
     "name": "stdout",
     "output_type": "stream",
     "text": [
      "0.82\n"
     ]
    }
   ],
   "source": [
    "print (PYes)"
   ]
  },
  {
   "cell_type": "code",
   "execution_count": 75,
   "metadata": {},
   "outputs": [
    {
     "name": "stdout",
     "output_type": "stream",
     "text": [
      "0.18\n"
     ]
    }
   ],
   "source": [
    "print (PNo)"
   ]
  },
  {
   "cell_type": "code",
   "execution_count": 76,
   "metadata": {},
   "outputs": [
    {
     "data": {
      "text/html": [
       "<div>\n",
       "<style scoped>\n",
       "    .dataframe tbody tr th:only-of-type {\n",
       "        vertical-align: middle;\n",
       "    }\n",
       "\n",
       "    .dataframe tbody tr th {\n",
       "        vertical-align: top;\n",
       "    }\n",
       "\n",
       "    .dataframe thead th {\n",
       "        text-align: right;\n",
       "    }\n",
       "</style>\n",
       "<table border=\"1\" class=\"dataframe\">\n",
       "  <thead>\n",
       "    <tr style=\"text-align: right;\">\n",
       "      <th>Buy</th>\n",
       "      <th>No</th>\n",
       "      <th>Yes</th>\n",
       "    </tr>\n",
       "    <tr>\n",
       "      <th>Day</th>\n",
       "      <th></th>\n",
       "      <th></th>\n",
       "    </tr>\n",
       "  </thead>\n",
       "  <tbody>\n",
       "    <tr>\n",
       "      <th>Holiday</th>\n",
       "      <td>6</td>\n",
       "      <td>18</td>\n",
       "    </tr>\n",
       "    <tr>\n",
       "      <th>Weekday</th>\n",
       "      <td>2</td>\n",
       "      <td>9</td>\n",
       "    </tr>\n",
       "    <tr>\n",
       "      <th>Weekend</th>\n",
       "      <td>1</td>\n",
       "      <td>14</td>\n",
       "    </tr>\n",
       "  </tbody>\n",
       "</table>\n",
       "</div>"
      ],
      "text/plain": [
       "Buy      No  Yes\n",
       "Day             \n",
       "Holiday   6   18\n",
       "Weekday   2    9\n",
       "Weekend   1   14"
      ]
     },
     "execution_count": 76,
     "metadata": {},
     "output_type": "execute_result"
    }
   ],
   "source": [
    "pd.crosstab(data['Day'], data['Buy'])"
   ]
  },
  {
   "cell_type": "code",
   "execution_count": 77,
   "metadata": {},
   "outputs": [
    {
     "name": "stdout",
     "output_type": "stream",
     "text": [
      "0.21951219512195122\n"
     ]
    }
   ],
   "source": [
    "PHolidayNo = 6/9\n",
    "PWeekdayNo = 2/9\n",
    "PWeekendNo = 1/9\n",
    "\n",
    "PHolidayYes = 18/41\n",
    "PWeekdayYes = 9/41\n",
    "PWeekendYes = 14/41\n",
    "\n",
    "PHoliday = 14/50\n",
    "PWeekday = 11/50\n",
    "PWeekend = 15/50\n",
    "\n",
    "print(PWeekdayYes)"
   ]
  },
  {
   "cell_type": "code",
   "execution_count": 78,
   "metadata": {},
   "outputs": [],
   "source": [
    "# P(A/B) ?\n",
    "# P (B) = PWeekday\n",
    "# P (A) = No Buy\n",
    "# P(B/A) = P Weekday/NoBuy"
   ]
  },
  {
   "cell_type": "code",
   "execution_count": 79,
   "metadata": {},
   "outputs": [
    {
     "name": "stdout",
     "output_type": "stream",
     "text": [
      "0.1818181818181818\n"
     ]
    }
   ],
   "source": [
    "PNoWeekday = (PWeekdayNo*PNo)/PWeekday\n",
    "print (PNoWeekday)"
   ]
  },
  {
   "cell_type": "code",
   "execution_count": 80,
   "metadata": {},
   "outputs": [
    {
     "name": "stdout",
     "output_type": "stream",
     "text": [
      "0.8181818181818181\n"
     ]
    }
   ],
   "source": [
    "PYesWeekday = (PWeekdayYes*PYes)/PWeekday\n",
    "print (PYesWeekday)"
   ]
  },
  {
   "cell_type": "code",
   "execution_count": 81,
   "metadata": {},
   "outputs": [
    {
     "name": "stdout",
     "output_type": "stream",
     "text": [
      "0.1818181818181818\n",
      "0.8181818181818181\n"
     ]
    }
   ],
   "source": [
    "# Probabilitas (Buy | Weekday) > dibanding dengan Probabilitas (No Buy | Weekday)\n",
    "print (PNoWeekday)\n",
    "print (PYesWeekday)"
   ]
  },
  {
   "cell_type": "code",
   "execution_count": 82,
   "metadata": {},
   "outputs": [],
   "source": [
    "# Kondisi B dimana\n",
    "# Day = Holiday\n",
    "# Discount = Yes\n",
    "# Free Delivery = Yes\n",
    "# A = NoBuy\n",
    "# P(A/B) = P(NoBuy|DiscountYes, Free Delivery Yes, PDayHoliday)"
   ]
  },
  {
   "cell_type": "code",
   "execution_count": 83,
   "metadata": {},
   "outputs": [
    {
     "data": {
      "text/html": [
       "<div>\n",
       "<style scoped>\n",
       "    .dataframe tbody tr th:only-of-type {\n",
       "        vertical-align: middle;\n",
       "    }\n",
       "\n",
       "    .dataframe tbody tr th {\n",
       "        vertical-align: top;\n",
       "    }\n",
       "\n",
       "    .dataframe thead th {\n",
       "        text-align: right;\n",
       "    }\n",
       "</style>\n",
       "<table border=\"1\" class=\"dataframe\">\n",
       "  <thead>\n",
       "    <tr style=\"text-align: right;\">\n",
       "      <th>Buy</th>\n",
       "      <th>No</th>\n",
       "      <th>Yes</th>\n",
       "    </tr>\n",
       "    <tr>\n",
       "      <th>Discount</th>\n",
       "      <th></th>\n",
       "      <th></th>\n",
       "    </tr>\n",
       "  </thead>\n",
       "  <tbody>\n",
       "    <tr>\n",
       "      <th>No</th>\n",
       "      <td>5</td>\n",
       "      <td>12</td>\n",
       "    </tr>\n",
       "    <tr>\n",
       "      <th>Yes</th>\n",
       "      <td>4</td>\n",
       "      <td>29</td>\n",
       "    </tr>\n",
       "  </tbody>\n",
       "</table>\n",
       "</div>"
      ],
      "text/plain": [
       "Buy       No  Yes\n",
       "Discount         \n",
       "No         5   12\n",
       "Yes        4   29"
      ]
     },
     "execution_count": 83,
     "metadata": {},
     "output_type": "execute_result"
    }
   ],
   "source": [
    "pd.crosstab(data['Discount'], data['Buy'])"
   ]
  },
  {
   "cell_type": "code",
   "execution_count": 84,
   "metadata": {},
   "outputs": [],
   "source": [
    "PNoDiscountNo = 5/9\n",
    "PYesDiscountNo = 4/9\n",
    "\n",
    "PNoDiscountYes = 12/41\n",
    "PYesDiscountYes = 29/41\n",
    "\n",
    "PNoDiscount = 17/50\n",
    "PYesDiscount = 33/50"
   ]
  },
  {
   "cell_type": "code",
   "execution_count": 85,
   "metadata": {},
   "outputs": [
    {
     "data": {
      "text/html": [
       "<div>\n",
       "<style scoped>\n",
       "    .dataframe tbody tr th:only-of-type {\n",
       "        vertical-align: middle;\n",
       "    }\n",
       "\n",
       "    .dataframe tbody tr th {\n",
       "        vertical-align: top;\n",
       "    }\n",
       "\n",
       "    .dataframe thead th {\n",
       "        text-align: right;\n",
       "    }\n",
       "</style>\n",
       "<table border=\"1\" class=\"dataframe\">\n",
       "  <thead>\n",
       "    <tr style=\"text-align: right;\">\n",
       "      <th>Buy</th>\n",
       "      <th>No</th>\n",
       "      <th>Yes</th>\n",
       "    </tr>\n",
       "    <tr>\n",
       "      <th>Free Delivery</th>\n",
       "      <th></th>\n",
       "      <th></th>\n",
       "    </tr>\n",
       "  </thead>\n",
       "  <tbody>\n",
       "    <tr>\n",
       "      <th>No</th>\n",
       "      <td>4</td>\n",
       "      <td>10</td>\n",
       "    </tr>\n",
       "    <tr>\n",
       "      <th>Yes</th>\n",
       "      <td>5</td>\n",
       "      <td>31</td>\n",
       "    </tr>\n",
       "  </tbody>\n",
       "</table>\n",
       "</div>"
      ],
      "text/plain": [
       "Buy            No  Yes\n",
       "Free Delivery         \n",
       "No              4   10\n",
       "Yes             5   31"
      ]
     },
     "execution_count": 85,
     "metadata": {},
     "output_type": "execute_result"
    }
   ],
   "source": [
    "pd.crosstab(data['Free Delivery'], data['Buy'])"
   ]
  },
  {
   "cell_type": "code",
   "execution_count": 86,
   "metadata": {},
   "outputs": [],
   "source": [
    "PNoFreeDeliveryNo = 4/9\n",
    "PYesFreeDeliveryNo = 5/9\n",
    "\n",
    "PNoFreeDeliveryYes = 10/41\n",
    "PYesFreeDeliveryYes = 31/41\n",
    "\n",
    "PNoFreeDelivery = 14/50\n",
    "PYesFreeDelivery = 36/50"
   ]
  },
  {
   "cell_type": "code",
   "execution_count": 87,
   "metadata": {},
   "outputs": [],
   "source": [
    "# Kondisi B dimana\n",
    "# Day = Holiday\n",
    "# Discount = Yes\n",
    "# Free Delivery = Yes\n",
    "# P(A) = NoBuy = PNo\n",
    "# P(B) = PYesDiscount,PYesFreeDelivery,PHoliday\n",
    "# P(B|A)1 = (PHoliday| No Buy) = PHolidayNo\n",
    "# P(B|A)2 = (PYesDiscount| No Buy) = PYesDiscountNo\n",
    "# P(B|A)3 = (PYesFreeDelivery| No Buy) = PYesFreeDeliveryNo\n",
    "# P(B)1 = PHoliday\n",
    "# P(B)2 = PYesDiscount\n",
    "# P(B)3 = PYesFreeDelivery\n",
    "\n",
    "#ditanyakan P(A/B) ?\n",
    "#Rumus\n",
    "# P(A/B) = P(B/A)*P(A)/P(B)"
   ]
  },
  {
   "cell_type": "code",
   "execution_count": 88,
   "metadata": {},
   "outputs": [
    {
     "name": "stdout",
     "output_type": "stream",
     "text": [
      "0.22268540787059302\n"
     ]
    }
   ],
   "source": [
    "PNoBuy1 = ((PHolidayNo*PYesDiscountNo*PYesFreeDeliveryNo)*PNo)/(PHoliday*PYesDiscount*PYesFreeDelivery)\n",
    "print(PNoBuy1)"
   ]
  },
  {
   "cell_type": "code",
   "execution_count": 89,
   "metadata": {},
   "outputs": [],
   "source": [
    "# Kondisi B dimana\n",
    "# Day = Holiday\n",
    "# Discount = Yes\n",
    "# Free Delivery = Yes\n",
    "# P(A) = Buy = PYes\n",
    "# P(B) = PYesDiscount,PYesDelivery,PHoliday\n",
    "# P(B|A)1 = (PHoliday| Buy) = PHolidayYes\n",
    "# P(B|A)2 = (PYesDiscount| Buy) = PYesDiscountYes\n",
    "# P(B|A)3 = (PYesDelivery| Buy) = PYesDeliveryYes\n",
    "# P(B)1 = PHoliday\n",
    "# P(B)2 = PYesDiscount\n",
    "# P(B)3 = PYesDelivery\n",
    "\n",
    "#ditanyakan P(A/B) ?\n",
    "#Rumus\n",
    "# P(A/B) = P(B/A)*P(A)/P(B)\n"
   ]
  },
  {
   "cell_type": "code",
   "execution_count": 90,
   "metadata": {},
   "outputs": [
    {
     "name": "stdout",
     "output_type": "stream",
     "text": [
      "1.4469716284112473\n"
     ]
    }
   ],
   "source": [
    "PBuy2 = ((PHolidayYes*PYesDiscountYes*PYesFreeDeliveryYes)*PYes)/(PHoliday*PYesDiscount*PYesFreeDelivery)\n",
    "print (PBuy2)"
   ]
  },
  {
   "cell_type": "code",
   "execution_count": 91,
   "metadata": {},
   "outputs": [],
   "source": [
    "# probablity of No Buy = 0.22268540787059302\n",
    "# probablity of Buy = 1.4469716284112473"
   ]
  },
  {
   "cell_type": "code",
   "execution_count": 94,
   "metadata": {},
   "outputs": [
    {
     "name": "stdout",
     "output_type": "stream",
     "text": [
      "1.6696570362818404\n"
     ]
    }
   ],
   "source": [
    "PSum = PNoBuy1+PBuy2\n",
    "print(PSum)"
   ]
  },
  {
   "cell_type": "code",
   "execution_count": 95,
   "metadata": {},
   "outputs": [
    {
     "name": "stdout",
     "output_type": "stream",
     "text": [
      "86.66280541263185\n"
     ]
    }
   ],
   "source": [
    "PBuy = (PBuy2/PSum) *100\n",
    "print(PBuy)"
   ]
  },
  {
   "cell_type": "code",
   "execution_count": 97,
   "metadata": {},
   "outputs": [
    {
     "name": "stdout",
     "output_type": "stream",
     "text": [
      "37.18082581284271\n"
     ]
    }
   ],
   "source": [
    "PNoBuy = (PNoBuy1*PSum) *100\n",
    "print(PNoBuy)"
   ]
  }
 ],
 "metadata": {
  "kernelspec": {
   "display_name": "Python 3",
   "language": "python",
   "name": "python3"
  },
  "language_info": {
   "codemirror_mode": {
    "name": "ipython",
    "version": 3
   },
   "file_extension": ".py",
   "mimetype": "text/x-python",
   "name": "python",
   "nbconvert_exporter": "python",
   "pygments_lexer": "ipython3",
   "version": "3.8.3"
  }
 },
 "nbformat": 4,
 "nbformat_minor": 4
}
